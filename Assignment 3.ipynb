{
 "cells": [
  {
   "cell_type": "code",
   "execution_count": 1,
   "id": "3c9191c1-b15e-4a37-b624-fe329f369c15",
   "metadata": {},
   "outputs": [
    {
     "name": "stdout",
     "output_type": "stream",
     "text": [
      "Money left after purchasing the item: $34.55\n"
     ]
    }
   ],
   "source": [
    "# Question 1: \n",
    "# Initial amount of money\n",
    "initial_money = 50.0\n",
    "\n",
    "# Cost of the item\n",
    "item_cost = 15.0\n",
    "\n",
    "# Tax rate\n",
    "tax_rate = 0.03\n",
    "\n",
    "# Calculate the total cost with tax\n",
    "total_cost = item_cost * (1 + tax_rate)\n",
    "\n",
    "# Calculate the remaining money after the purchase\n",
    "remaining_money = initial_money - total_cost\n",
    "\n",
    "# Print the remaining money\n",
    "print(f\"Money left after purchasing the item: ${remaining_money:.2f}\")\n"
   ]
  },
  {
   "cell_type": "code",
   "execution_count": 4,
   "id": "4d317d62-f4c7-437b-962f-1db61e0a1646",
   "metadata": {},
   "outputs": [
    {
     "name": "stdin",
     "output_type": "stream",
     "text": [
      "Please enter your next birthday (YYYY-MM-DD):  2025-06-12\n"
     ]
    },
    {
     "name": "stdout",
     "output_type": "stream",
     "text": [
      "There are approximately 47.86 weeks until your birthday.\n"
     ]
    }
   ],
   "source": [
    "# Question 2: \n",
    "from datetime import datetime\n",
    "\n",
    "# Ask the user for their birthday\n",
    "birthday_input = input(\"Please enter your next birthday (YYYY-MM-DD): \")\n",
    "\n",
    "# Parse the input date\n",
    "birthday = datetime.strptime(birthday_input, '%Y-%m-%d')\n",
    "\n",
    "# Get today's date\n",
    "today = datetime.today()\n",
    "\n",
    "# Calculate the difference in days\n",
    "days_until_birthday = (birthday - today).days\n",
    "\n",
    "# Calculate the approximate number of weeks\n",
    "weeks_until_birthday = days_until_birthday / 7\n",
    "\n",
    "# Print the results \n",
    "print(f\"There are approximately {weeks_until_birthday:.2f} weeks until your birthday.\")\n"
   ]
  },
  {
   "cell_type": "code",
   "execution_count": 6,
   "id": "38b969ba-51ff-4c0e-9a7e-1cd295c5b59d",
   "metadata": {},
   "outputs": [
    {
     "name": "stdin",
     "output_type": "stream",
     "text": [
      "Enter the grade (0-100):  67\n"
     ]
    },
    {
     "name": "stdout",
     "output_type": "stream",
     "text": [
      "The letter grade for 67 is: D\n"
     ]
    }
   ],
   "source": [
    "# Question 3:\n",
    "# Create a variable Grade\n",
    "Grade = int(input(\"Enter the grade (0-100): \"))\n",
    "\n",
    "# Determine the letter grade\n",
    "if 90 <= Grade <= 100:\n",
    "    letter_grade = 'A'\n",
    "elif 80 <= Grade <= 89:\n",
    "    letter_grade = 'B'\n",
    "elif 70 <= Grade <= 79:\n",
    "    letter_grade = 'C'\n",
    "elif 60 <= Grade <= 69:\n",
    "    letter_grade = 'D'\n",
    "elif 0 <= Grade <= 59:\n",
    "    letter_grade = 'F'\n",
    "else:\n",
    "    letter_grade = 'Invalid grade'\n",
    "\n",
    "# Print the letter grade\n",
    "print(f\"The letter grade for {Grade} is: {letter_grade}\")\n"
   ]
  },
  {
   "cell_type": "code",
   "execution_count": 9,
   "id": "f301904b-6301-40f6-9128-4958d2f515ff",
   "metadata": {},
   "outputs": [
    {
     "name": "stdout",
     "output_type": "stream",
     "text": [
      "Welcome to Calculator!\n",
      "Select operation:\n",
      "1. Add\n",
      "2. Subtract\n",
      "3. Multiply\n",
      "4. Divide\n"
     ]
    },
    {
     "name": "stdin",
     "output_type": "stream",
     "text": [
      "Enter choice (1/2/3/4):  3\n",
      "Enter first number:  2\n",
      "Enter second number:  3\n"
     ]
    },
    {
     "name": "stdout",
     "output_type": "stream",
     "text": [
      "2.0 * 3.0 = 6.0\n"
     ]
    }
   ],
   "source": [
    "# Question 4: \n",
    "# Function to add two numbers\n",
    "def add(x, y):\n",
    "    return x + y\n",
    "\n",
    "# Function to subtract two numbers\n",
    "def subtract(x, y):\n",
    "    return x - y\n",
    "\n",
    "# Function to multiply two numbers\n",
    "def multiply(x, y):\n",
    "    return x * y\n",
    "\n",
    "# Function to divide two numbers\n",
    "def divide(x, y):\n",
    "    if y == 0:\n",
    "        return \"Error: Division by zero!\"\n",
    "    else:\n",
    "        return x / y\n",
    "\n",
    "# Main function to operate the calculator\n",
    "def calculator():\n",
    "    print(\"Welcome to Calculator!\")\n",
    "    print(\"Select operation:\")\n",
    "    print(\"1. Add\")\n",
    "    print(\"2. Subtract\")\n",
    "    print(\"3. Multiply\")\n",
    "    print(\"4. Divide\")\n",
    "\n",
    "    choice = input(\"Enter choice (1/2/3/4): \")\n",
    "\n",
    "    num1 = float(input(\"Enter first number: \"))\n",
    "    num2 = float(input(\"Enter second number: \"))\n",
    "\n",
    "    if choice == '1':\n",
    "        print(f\"{num1} + {num2} = {add(num1, num2)}\")\n",
    "    elif choice == '2':\n",
    "        print(f\"{num1} - {num2} = {subtract(num1, num2)}\")\n",
    "    elif choice == '3':\n",
    "        print(f\"{num1} * {num2} = {multiply(num1, num2)}\")\n",
    "    elif choice == '4':\n",
    "        print(f\"{num1} / {num2} = {divide(num1, num2)}\")\n",
    "    else:\n",
    "        print(\"Invalid input\")\n",
    "\n",
    "# Call the calculator function to start the program\n",
    "calculator()\n"
   ]
  },
  {
   "cell_type": "markdown",
   "id": "dcf3a9a2-e0a8-4730-88dd-03fd5f835537",
   "metadata": {},
   "source": []
  }
 ],
 "metadata": {
  "kernelspec": {
   "display_name": "Python 3 (ipykernel)",
   "language": "python",
   "name": "python3"
  },
  "language_info": {
   "codemirror_mode": {
    "name": "ipython",
    "version": 3
   },
   "file_extension": ".py",
   "mimetype": "text/x-python",
   "name": "python",
   "nbconvert_exporter": "python",
   "pygments_lexer": "ipython3",
   "version": "3.11.7"
  }
 },
 "nbformat": 4,
 "nbformat_minor": 5
}
